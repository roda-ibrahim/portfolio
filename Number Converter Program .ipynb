{
 "cells": [
  {
   "cell_type": "markdown",
   "id": "b47c32f0-c106-4c3b-8b01-bbf50fed67ea",
   "metadata": {},
   "source": [
    "# Number Converter Program\n",
    "This program converts a decimal number to binary, octal, or hexadecimal based on user selection.\n"
   ]
  },
  {
   "cell_type": "code",
   "execution_count": null,
   "id": "f5eb796c-2b4b-48f6-a026-f47dea0060a1",
   "metadata": {},
   "outputs": [],
   "source": [
    "def display_intro():\n",
    "    print(\"**********************************************\")\n",
    "    print(\"**        A Number Converter Program        **\")\n",
    "    print(\"** Decimal --> Binary, Octal or Hexadecimal **\")\n",
    "    print(\"**********************************************\")\n",
    "\n",
    "display_intro()\n"
   ]
  },
  {
   "cell_type": "code",
   "execution_count": null,
   "id": "2193303b-849f-442b-80b1-526d1f0fa8f2",
   "metadata": {},
   "outputs": [],
   "source": [
    "def display_menu():\n",
    "    print(\"1. Convert to binary value\")\n",
    "    print(\"2. Convert to octal value\")\n",
    "    print(\"3. Convert to hexadecimal value\")\n",
    "    print(\"4. Quit the program\\n\")\n"
   ]
  },
  {
   "cell_type": "code",
   "execution_count": null,
   "id": "68431fe1-4e58-4b4a-94b4-a8b5c8ec6b59",
   "metadata": {},
   "outputs": [],
   "source": [
    "def get_selection(start, end):\n",
    "    selection = input(\"Please make a selection: \")\n",
    "    while True:\n",
    "        try:\n",
    "            selection_int = int(selection)\n",
    "            if start <= selection_int <= end:\n",
    "                return selection_int\n",
    "            else:\n",
    "                selection = input(\"Invalid selection. Try again: \")\n",
    "        except ValueError:\n",
    "            selection = input(\"Invalid selection. Try again: \")\n"
   ]
  },
  {
   "cell_type": "code",
   "execution_count": null,
   "id": "3ab59291-36fc-4d9c-b9ed-4079756bf90c",
   "metadata": {},
   "outputs": [],
   "source": [
    "def get_number():\n",
    "    number = input(\"Please enter a positive integer: \")\n",
    "    while True:\n",
    "        try:\n",
    "            number_int = int(number)\n",
    "            if number_int > 0:\n",
    "                return number_int\n",
    "            else:\n",
    "                number = input(\"Invalid entry. Try again: \")\n",
    "        except ValueError:\n",
    "            number = input(\"Invalid entry. Try again: \")\n"
   ]
  },
  {
   "cell_type": "code",
   "execution_count": null,
   "id": "7ea7cb69-c53f-4ab5-8b12-7362a180c659",
   "metadata": {},
   "outputs": [],
   "source": [
    "def convert_number(number, base):\n",
    "    if number == 0:\n",
    "        return \"\"\n",
    "    else:\n",
    "        digits = \"0123456789abcdef\"\n",
    "        return convert_number(number // base, base) + digits[number % base]\n"
   ]
  },
  {
   "cell_type": "code",
   "execution_count": null,
   "id": "1548c84f-0907-4a20-a36b-83a6ef8ac709",
   "metadata": {},
   "outputs": [],
   "source": [
    "def main():\n",
    "    display_intro()\n",
    "    quit_program = False\n",
    "    while not quit_program:\n",
    "        display_menu()\n",
    "        selection = get_selection(1, 4)\n",
    "        if selection == 4:\n",
    "            quit_program = True\n",
    "        else:\n",
    "            number = get_number()\n",
    "            base = 0\n",
    "            base_name = \"\"\n",
    "            if selection == 1:\n",
    "                base = 2\n",
    "                base_name = \"binary\"\n",
    "            elif selection == 2:\n",
    "                base = 8\n",
    "                base_name = \"octal\"\n",
    "            elif selection == 3:\n",
    "                base = 16\n",
    "                base_name = \"hexadecimal\"\n",
    "            \n",
    "            converted_number = convert_number(number, base)\n",
    "            print(f\"{number} is {converted_number} in {base_name}\\n\")\n"
   ]
  },
  {
   "cell_type": "code",
   "execution_count": null,
   "id": "28b6e18f-b1dc-48cd-b6e1-e83a4db546d0",
   "metadata": {},
   "outputs": [],
   "source": [
    "main()\n",
    "#Run programme"
   ]
  }
 ],
 "metadata": {
  "kernelspec": {
   "display_name": "Python 3 (ipykernel)",
   "language": "python",
   "name": "python3"
  },
  "language_info": {
   "codemirror_mode": {
    "name": "ipython",
    "version": 3
   },
   "file_extension": ".py",
   "mimetype": "text/x-python",
   "name": "python",
   "nbconvert_exporter": "python",
   "pygments_lexer": "ipython3",
   "version": "3.13.2"
  }
 },
 "nbformat": 4,
 "nbformat_minor": 5
}
